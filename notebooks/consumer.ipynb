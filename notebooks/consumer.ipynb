{
 "cells": [
  {
   "cell_type": "code",
   "execution_count": 1,
   "metadata": {},
   "outputs": [],
   "source": [
    "import sys\n",
    "import os\n",
    "from json import dumps, loads\n",
    "sys.path.append(os.path.abspath(os.path.join('../scripts')))\n",
    "import sys\n",
    "import os\n",
    "sys.path.insert(0, '../scripts/')\n",
    "sys.path.insert(0, '../logs/')\n",
    "sys.path.append(os.path.abspath(os.path.join('..')))\n",
    "from log import App_Logger\n",
    "from kafka_python_client import KafkaClient\n"
   ]
  },
  {
   "cell_type": "code",
   "execution_count": 3,
   "metadata": {},
   "outputs": [
    {
     "name": "stderr",
     "output_type": "stream",
     "text": [
      "KafkaClient:INFO->SUCCESSFULLY CREATED KafkaClient OBJECT INSTANCE.\n",
      "SERVERS:\n",
      "\n"
     ]
    },
    {
     "name": "stdout",
     "output_type": "stream",
     "text": [
      "\t1 - localhost:9092\n",
      "\t2 - localhost:9093\n",
      "\t3 - localhost:9094\n"
     ]
    }
   ],
   "source": [
    "\n",
    "kf_client = KafkaClient(\n",
    "    'group1',\n",
    "    [\n",
    "        'localhost:9092',\n",
    "        'localhost:9093',\n",
    "        'localhost:9094'\n",
    "    ]\n",
    ")"
   ]
  },
  {
   "cell_type": "code",
   "execution_count": 4,
   "metadata": {},
   "outputs": [
    {
     "name": "stderr",
     "output_type": "stream",
     "text": [
      "KafkaClient:INFO->SUCCESSFULLY CREATED A KAFKA ADMIN CLIENT\n"
     ]
    }
   ],
   "source": [
    "kf_client.create_admin_client()"
   ]
  },
  {
   "cell_type": "code",
   "execution_count": 5,
   "metadata": {},
   "outputs": [
    {
     "name": "stderr",
     "output_type": "stream",
     "text": [
      "KafkaClient:INFO->SUCCESSFULLY FETCHED KAFKA TOPICS\n"
     ]
    },
    {
     "name": "stdout",
     "output_type": "stream",
     "text": [
      "['Text-Corpus', '__consumer_offsets']\n"
     ]
    }
   ],
   "source": [
    "print(kf_client.get_topics())"
   ]
  },
  {
   "cell_type": "code",
   "execution_count": 6,
   "metadata": {},
   "outputs": [
    {
     "name": "stderr",
     "output_type": "stream",
     "text": [
      "KafkaClient:INFO->SUCCESSFULLY CREATED A KAFKA CONSUMER\n"
     ]
    }
   ],
   "source": [
    "kf_client.create_consumer(\n",
    "    topics='Text-Corpus',\n",
    "    offset='earliest',\n",
    "    auto_commit=True,\n",
    "    group_id='group1',\n",
    "    value_deserializer=kf_client.get_json_deserializer(),\n",
    "    timeout=1000)\n"
   ]
  },
  {
   "cell_type": "code",
   "execution_count": 11,
   "metadata": {},
   "outputs": [
    {
     "name": "stderr",
     "output_type": "stream",
     "text": [
      "KafkaClient:INFO->SUCCESSFULLY FETCHED 3 DATA VALUES\n",
      "KafkaClient:INFO->SUCCESSFULLY FETCHED 3 DATA VALUES\n"
     ]
    },
    {
     "data": {
      "text/plain": [
       "[{'number': 2000}, {'number': 3000}, {'number': 1000}]"
      ]
     },
     "execution_count": 11,
     "metadata": {},
     "output_type": "execute_result"
    }
   ],
   "source": [
    "kf_client.get_data()"
   ]
  },
  {
   "cell_type": "code",
   "execution_count": 12,
   "metadata": {},
   "outputs": [
    {
     "name": "stderr",
     "output_type": "stream",
     "text": [
      "KafkaClient:INFO->SUCCESSFULLY CREATED A KAFKA CONSUMER\n",
      "KafkaClient:INFO->SUCCESSFULLY CREATED A KAFKA CONSUMER\n"
     ]
    }
   ],
   "source": [
    "kf_client.create_consumer(\n",
    "    topics='Text-Corpus',\n",
    "    offset='earliest',\n",
    "    auto_commit=True,\n",
    "    group_id='group11',\n",
    "    value_deserializer=kf_client.get_json_deserializer(),\n",
    "    timeout=1000)"
   ]
  },
  {
   "cell_type": "code",
   "execution_count": 13,
   "metadata": {},
   "outputs": [
    {
     "name": "stderr",
     "output_type": "stream",
     "text": [
      "KafkaClient:INFO->SUCCESSFULLY FETCHED 111 DATA VALUES\n",
      "KafkaClient:INFO->SUCCESSFULLY FETCHED 111 DATA VALUES\n"
     ]
    },
    {
     "data": {
      "text/plain": [
       "[{'number': 200},\n",
       " {'number': 900},\n",
       " {'number': 110},\n",
       " {'number': 152},\n",
       " {'number': 600},\n",
       " {'number': 300},\n",
       " {'number': 700},\n",
       " {'number': 100},\n",
       " {'number': 800},\n",
       " {'number': 1},\n",
       " {'number': 11},\n",
       " {'number': 152},\n",
       " {'number': 200},\n",
       " {'number': 140},\n",
       " {'number': 13},\n",
       " {'number': 400},\n",
       " {'number': 130},\n",
       " {'number': 140},\n",
       " {'number': 400},\n",
       " {'number': 120},\n",
       " {'number': 140},\n",
       " {'number': 152},\n",
       " {'number': 400},\n",
       " {'number': 110},\n",
       " {'number': 130},\n",
       " {'number': 140},\n",
       " {'number': 130},\n",
       " {'number': 3},\n",
       " {'number': 8},\n",
       " {'number': 13},\n",
       " {'number': 15},\n",
       " {'number': 1000},\n",
       " {'number': 600},\n",
       " {'number': 5},\n",
       " {'number': 8},\n",
       " {'number': 800},\n",
       " {'number': 100},\n",
       " {'number': 120},\n",
       " {'number': 200},\n",
       " {'number': 500},\n",
       " {'number': 800},\n",
       " {'number': 900},\n",
       " {'number': 110},\n",
       " {'number': 150},\n",
       " {'number': 600},\n",
       " {'number': 800},\n",
       " {'number': 900},\n",
       " {'number': 120},\n",
       " {'number': 200},\n",
       " {'number': 400},\n",
       " {'number': 600},\n",
       " {'number': 100},\n",
       " {'number': 120},\n",
       " {'number': 150},\n",
       " {'number': 5},\n",
       " {'number': 6},\n",
       " {'number': 9},\n",
       " {'number': 12},\n",
       " {'number': 300},\n",
       " {'number': 400},\n",
       " {'number': 700},\n",
       " {'number': 120},\n",
       " {'number': 2},\n",
       " {'number': 11},\n",
       " {'number': 15},\n",
       " {'number': 1000},\n",
       " {'number': 152},\n",
       " {'number': 300},\n",
       " {'number': 500},\n",
       " {'number': 600},\n",
       " {'number': 150},\n",
       " {'number': 700},\n",
       " {'number': 100},\n",
       " {'number': 500},\n",
       " {'number': 152},\n",
       " {'number': 300},\n",
       " {'number': 110},\n",
       " {'number': 140},\n",
       " {'number': 2},\n",
       " {'number': 4},\n",
       " {'number': 10},\n",
       " {'number': 2000},\n",
       " {'number': 3000},\n",
       " {'number': 500},\n",
       " {'number': 100},\n",
       " {'number': 110},\n",
       " {'number': 130},\n",
       " {'number': 150},\n",
       " {'number': 3},\n",
       " {'number': 6},\n",
       " {'number': 7},\n",
       " {'number': 9},\n",
       " {'number': 12},\n",
       " {'number': 700},\n",
       " {'number': 300},\n",
       " {'number': 130},\n",
       " {'number': 200},\n",
       " {'number': 150},\n",
       " {'number': 500},\n",
       " {'number': 700},\n",
       " {'number': 900},\n",
       " {'number': 7},\n",
       " {'number': 14},\n",
       " {'number': 800},\n",
       " {'number': 900},\n",
       " {'number': 1},\n",
       " {'number': 4},\n",
       " {'number': 10},\n",
       " {'number': 14},\n",
       " {'number': 2000},\n",
       " {'number': 3000}]"
      ]
     },
     "execution_count": 13,
     "metadata": {},
     "output_type": "execute_result"
    }
   ],
   "source": [
    "kf_client.get_data()"
   ]
  }
 ],
 "metadata": {
  "interpreter": {
   "hash": "2db524e06e9f5f4ffedc911c917cb75e12dbc923643829bf417064a77eb14d37"
  },
  "kernelspec": {
   "display_name": "Python 3.8.4 64-bit",
   "name": "python3"
  },
  "language_info": {
   "codemirror_mode": {
    "name": "ipython",
    "version": 3
   },
   "file_extension": ".py",
   "mimetype": "text/x-python",
   "name": "python",
   "nbconvert_exporter": "python",
   "pygments_lexer": "ipython3",
   "version": "3.8.4"
  },
  "orig_nbformat": 4
 },
 "nbformat": 4,
 "nbformat_minor": 2
}
