{
 "cells": [
  {
   "cell_type": "code",
   "execution_count": 2,
   "metadata": {},
   "outputs": [],
   "source": [
    "import sys\n",
    "import os\n",
    "from json import dumps, loads\n",
    "sys.path.append(os.path.abspath(os.path.join('../scripts')))\n",
    "import sys\n",
    "import os\n",
    "sys.path.insert(0, '../scripts/')\n",
    "sys.path.insert(0, '../logs/')\n",
    "sys.path.append(os.path.abspath(os.path.join('..')))\n",
    "from log import App_Logger\n",
    "from kafka_python_client import KafkaClient\n",
    "\n"
   ]
  },
  {
   "cell_type": "code",
   "execution_count": 4,
   "metadata": {},
   "outputs": [
    {
     "name": "stderr",
     "output_type": "stream",
     "text": [
      "KafkaClient:INFO->SUCCESSFULLY CREATED KafkaClient OBJECT INSTANCE.\n",
      "SERVERS:\n",
      "\n"
     ]
    },
    {
     "name": "stdout",
     "output_type": "stream",
     "text": [
      "\t1 - localhost:9092\n",
      "\t2 - localhost:9093\n",
      "\t3 - localhost:9094\n"
     ]
    }
   ],
   "source": [
    "\n",
    "kf_client = KafkaClient(\n",
    "    'group1',\n",
    "    [\n",
    "        'localhost:9092',\n",
    "        'localhost:9093',\n",
    "        'localhost:9094'\n",
    "    ]\n",
    ")"
   ]
  },
  {
   "cell_type": "code",
   "execution_count": 5,
   "metadata": {},
   "outputs": [
    {
     "name": "stderr",
     "output_type": "stream",
     "text": [
      "KafkaClient:INFO->SUCCESSFULLY CREATED A KAFKA ADMIN CLIENT\n"
     ]
    }
   ],
   "source": [
    "kf_client.create_admin_client()"
   ]
  },
  {
   "cell_type": "code",
   "execution_count": 6,
   "metadata": {},
   "outputs": [
    {
     "name": "stderr",
     "output_type": "stream",
     "text": [
      "KafkaClient:INFO->SUCCESSFULLY FETCHED KAFKA TOPICS\n"
     ]
    },
    {
     "name": "stdout",
     "output_type": "stream",
     "text": [
      "['Text-Corpus', '__consumer_offsets']\n"
     ]
    }
   ],
   "source": [
    "print(kf_client.get_topics())"
   ]
  },
  {
   "cell_type": "code",
   "execution_count": 7,
   "metadata": {},
   "outputs": [
    {
     "name": "stderr",
     "output_type": "stream",
     "text": [
      "KafkaClient:INFO->SUCCESSFULLY CREATED A KAFKA PRODUCER\n"
     ]
    }
   ],
   "source": [
    "kf_client.create_producer(value_serializer=kf_client.get_json_serializer())\n"
   ]
  },
  {
   "cell_type": "code",
   "execution_count": 8,
   "metadata": {},
   "outputs": [
    {
     "name": "stderr",
     "output_type": "stream",
     "text": [
      "KafkaClient:INFO->SUCCESSFULLY SENT DATA\n"
     ]
    }
   ],
   "source": [
    "kf_client.send_data(topic_name='Text-Corpus', data_list=[{'number': 152}, {'number': 200}, {'number': 300}, {'number': 400}, {'number': 500}, {'number': 600}, {\n",
    "                    'number': 700}, {'number': 800}, {'number': 900}, {'number': 100}, {'number': 110}, {'number': 120}, {'number': 130}, {'number': 140}, {'number': 150}])\n"
   ]
  },
  {
   "cell_type": "code",
   "execution_count": 9,
   "metadata": {},
   "outputs": [
    {
     "name": "stderr",
     "output_type": "stream",
     "text": [
      "KafkaClient:INFO->SUCCESSFULLY SENT 15 DATA VALUES\n",
      "KafkaClient:INFO->SUCCESSFULLY SENT 15 DATA VALUES\n"
     ]
    }
   ],
   "source": [
    "kf_client.send_data(topic_name='Text-Corpus', data_list=[{'number': 1}, {'number': 2}, {'number': 3}, {'number': 4}, {'number': 5}, {'number': 6}, {\n",
    "                    'number': 7}, {'number': 8}, {'number': 9}, {'number': 10}, {'number': 11}, {'number': 12}, {'number': 13}, {'number': 14}, {'number': 15}])\n"
   ]
  },
  {
   "cell_type": "code",
   "execution_count": 10,
   "metadata": {},
   "outputs": [
    {
     "name": "stderr",
     "output_type": "stream",
     "text": [
      "KafkaClient:INFO->SUCCESSFULLY SENT 3 DATA VALUES\n",
      "KafkaClient:INFO->SUCCESSFULLY SENT 3 DATA VALUES\n"
     ]
    }
   ],
   "source": [
    "kf_client.send_data(topic_name='Text-Corpus', data_list=[{'number': 1000}, {'number': 2000}, {'number': 3000}])\n"
   ]
  }
 ],
 "metadata": {
  "interpreter": {
   "hash": "2db524e06e9f5f4ffedc911c917cb75e12dbc923643829bf417064a77eb14d37"
  },
  "kernelspec": {
   "display_name": "Python 3.8.4 64-bit",
   "name": "python3"
  },
  "language_info": {
   "codemirror_mode": {
    "name": "ipython",
    "version": 3
   },
   "file_extension": ".py",
   "mimetype": "text/x-python",
   "name": "python",
   "nbconvert_exporter": "python",
   "pygments_lexer": "ipython3",
   "version": "3.8.4"
  },
  "orig_nbformat": 4
 },
 "nbformat": 4,
 "nbformat_minor": 2
}
